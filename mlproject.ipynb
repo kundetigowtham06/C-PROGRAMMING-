{
  "nbformat": 4,
  "nbformat_minor": 0,
  "metadata": {
    "colab": {
      "provenance": [],
      "authorship_tag": "ABX9TyPefW9XrStPi/F4ygjwY33Z",
      "include_colab_link": true
    },
    "kernelspec": {
      "name": "python3",
      "display_name": "Python 3"
    },
    "language_info": {
      "name": "python"
    }
  },
  "cells": [
    {
      "cell_type": "markdown",
      "metadata": {
        "id": "view-in-github",
        "colab_type": "text"
      },
      "source": [
        "<a href=\"https://colab.research.google.com/github/kundetigowtham06/C-PROGRAMMING-/blob/main/mlproject.ipynb\" target=\"_parent\"><img src=\"https://colab.research.google.com/assets/colab-badge.svg\" alt=\"Open In Colab\"/></a>"
      ]
    },
    {
      "cell_type": "code",
      "execution_count": null,
      "metadata": {
        "id": "QsmeU2Ss5O98"
      },
      "outputs": [],
      "source": [
        "a=\"Gowtham\""
      ]
    },
    {
      "cell_type": "code",
      "source": [
        "print(a)"
      ],
      "metadata": {
        "colab": {
          "base_uri": "https://localhost:8080/"
        },
        "id": "UHGXBvym57mY",
        "outputId": "ab522a59-36b5-4590-d7c6-e493f3466da7"
      },
      "execution_count": null,
      "outputs": [
        {
          "output_type": "stream",
          "name": "stdout",
          "text": [
            "Gowtham\n"
          ]
        }
      ]
    },
    {
      "cell_type": "code",
      "source": [
        "def prime(n):\n",
        "  for i in range(2,n):\n",
        "    if n%i==0:\n",
        "      return \"not a prime\"\n",
        "  return(\"prime\")\n",
        "print(prime(4))"
      ],
      "metadata": {
        "id": "30gGIJez8CBH",
        "colab": {
          "base_uri": "https://localhost:8080/"
        },
        "outputId": "534c7a6c-8dbc-4537-ed09-d757f825266e"
      },
      "execution_count": null,
      "outputs": [
        {
          "output_type": "stream",
          "name": "stdout",
          "text": [
            "not a prime\n"
          ]
        }
      ]
    }
  ]
}